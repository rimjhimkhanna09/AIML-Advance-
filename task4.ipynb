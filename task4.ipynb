{
  "nbformat": 4,
  "nbformat_minor": 0,
  "metadata": {
    "colab": {
      "provenance": [],
      "authorship_tag": "ABX9TyMroqtzNvcdYOoNTWdiQzWd",
      "include_colab_link": true
    },
    "kernelspec": {
      "name": "python3",
      "display_name": "Python 3"
    },
    "language_info": {
      "name": "python"
    }
  },
  "cells": [
    {
      "cell_type": "markdown",
      "metadata": {
        "id": "view-in-github",
        "colab_type": "text"
      },
      "source": [
        "<a href=\"https://colab.research.google.com/github/rimjhimkhanna09/AIML-Advance-/blob/main/task4.ipynb\" target=\"_parent\"><img src=\"https://colab.research.google.com/assets/colab-badge.svg\" alt=\"Open In Colab\"/></a>"
      ]
    },
    {
      "cell_type": "code",
      "execution_count": 1,
      "metadata": {
        "colab": {
          "base_uri": "https://localhost:8080/",
          "height": 704
        },
        "id": "IARk9k04aZ8b",
        "outputId": "bcafa68b-d3d6-401c-b3a6-825b45fd845f"
      },
      "outputs": [
        {
          "output_type": "stream",
          "name": "stdout",
          "text": [
            "Confusion Matrix:\n",
            " [[41  2]\n",
            " [ 1 70]]\n",
            "Precision: 0.9722222222222222\n",
            "Recall: 0.9859154929577465\n",
            "ROC-AUC: 0.99737962659679\n"
          ]
        },
        {
          "output_type": "display_data",
          "data": {
            "text/plain": [
              "<Figure size 640x480 with 1 Axes>"
            ],
            "image/png": "[encoded data removed]"
          },
          "metadata": {}
        },
        {
          "output_type": "stream",
          "name": "stdout",
          "text": [
            "\n",
            "With threshold = 0.3\n",
            "Confusion Matrix:\n",
            " [[41  2]\n",
            " [ 0 71]]\n",
            "Precision: 0.9726027397260274\n",
            "Recall: 1.0\n"
          ]
        }
      ],
      "source": [
        "import pandas as pd\n",
        "import numpy as np\n",
        "from sklearn.model_selection import train_test_split\n",
        "from sklearn.preprocessing import StandardScaler\n",
        "from sklearn.linear_model import LogisticRegression\n",
        "from sklearn.metrics import confusion_matrix, precision_score, recall_score, roc_auc_score, roc_curve\n",
        "import matplotlib.pyplot as plt\n",
        "\n",
        "# Load dataset\n",
        "url = \"https://archive.ics.uci.edu/ml/machine-learning-databases/breast-cancer-wisconsin/wdbc.data\"\n",
        "columns = ['ID', 'Diagnosis'] + [f'feature_{i}' for i in range(1, 31)]\n",
        "df = pd.read_csv(url, header=None, names=columns)\n",
        "\n",
        "# Prepare features and labels\n",
        "X = df.iloc[:, 2:]  # features start from column 2\n",
        "y = df['Diagnosis'].map({'M': 0, 'B': 1})  # malignant = 0, benign = 1\n",
        "\n",
        "# Train-test split and standardization\n",
        "X_train, X_test, y_train, y_test = train_test_split(X, y, test_size=0.2, random_state=42)\n",
        "scaler = StandardScaler()\n",
        "X_train_scaled = scaler.fit_transform(X_train)\n",
        "X_test_scaled = scaler.transform(X_test)\n",
        "\n",
        "# Logistic Regression model\n",
        "model = LogisticRegression()\n",
        "model.fit(X_train_scaled, y_train)\n",
        "\n",
        "# Predictions\n",
        "y_pred = model.predict(X_test_scaled)\n",
        "y_proba = model.predict_proba(X_test_scaled)[:, 1]\n",
        "\n",
        "# Evaluation\n",
        "print(\"Confusion Matrix:\\n\", confusion_matrix(y_test, y_pred))\n",
        "print(\"Precision:\", precision_score(y_test, y_pred))\n",
        "print(\"Recall:\", recall_score(y_test, y_pred))\n",
        "print(\"ROC-AUC:\", roc_auc_score(y_test, y_proba))\n",
        "\n",
        "# ROC Curve\n",
        "fpr, tpr, _ = roc_curve(y_test, y_proba)\n",
        "plt.plot(fpr, tpr, label='ROC Curve')\n",
        "plt.plot([0,1], [0,1], linestyle='--')\n",
        "plt.xlabel('False Positive Rate')\n",
        "plt.ylabel('True Positive Rate')\n",
        "plt.title('ROC Curve')\n",
        "plt.legend()\n",
        "plt.grid()\n",
        "plt.show()\n",
        "\n",
        "# Threshold tuning\n",
        "threshold = 0.3\n",
        "y_pred_thresh = (y_proba >= threshold).astype(int)\n",
        "print(f\"\\nWith threshold = {threshold}\")\n",
        "print(\"Confusion Matrix:\\n\", confusion_matrix(y_test, y_pred_thresh))\n",
        "print(\"Precision:\", precision_score(y_test, y_pred_thresh))\n",
        "print(\"Recall:\", recall_score(y_test, y_pred_thresh))\n"
      ]
    },
    {
      "cell_type": "markdown",
      "source": [
        "✅ 1. Import the CSV File"
      ],
      "metadata": {
        "id": "uZMiRBkfbYQU"
      }
    },
    {
      "cell_type": "code",
      "source": [
        "import pandas as pd\n",
        "\n",
        "# Load the dataset\n",
        "df = pd.read_csv(\"/content/data.csv\")\n",
        "\n",
        "# View first few rows\n",
        "print(df.head())\n"
      ],
      "metadata": {
        "colab": {
          "base_uri": "https://localhost:8080/"
        },
        "id": "5Rvn5xN5bY9F",
        "outputId": "9d8af648-84dd-4cac-952a-f68d9519b9d7"
      },
      "execution_count": 3,
      "outputs": [
        {
          "output_type": "stream",
          "name": "stdout",
          "text": [
            "         id diagnosis  radius_mean  texture_mean  perimeter_mean  area_mean  \\\n",
            "0    842302         M        17.99         10.38          122.80     1001.0   \n",
            "1    842517         M        20.57         17.77          132.90     1326.0   \n",
            "2  84300903         M        19.69         21.25          130.00     1203.0   \n",
            "3  84348301         M        11.42         20.38           77.58      386.1   \n",
            "4  84358402         M        20.29         14.34          135.10     1297.0   \n",
            "\n",
            "   smoothness_mean  compactness_mean  concavity_mean  concave points_mean  \\\n",
            "0          0.11840           0.27760          0.3001              0.14710   \n",
            "1          0.08474           0.07864          0.0869              0.07017   \n",
            "2          0.10960           0.15990          0.1974              0.12790   \n",
            "3          0.14250           0.28390          0.2414              0.10520   \n",
            "4          0.10030           0.13280          0.1980              0.10430   \n",
            "\n",
            "   ...  texture_worst  perimeter_worst  area_worst  smoothness_worst  \\\n",
            "0  ...          17.33           184.60      2019.0            0.1622   \n",
            "1  ...          23.41           158.80      1956.0            0.1238   \n",
            "2  ...          25.53           152.50      1709.0            0.1444   \n",
            "3  ...          26.50            98.87       567.7            0.2098   \n",
            "4  ...          16.67           152.20      1575.0            0.1374   \n",
            "\n",
            "   compactness_worst  concavity_worst  concave points_worst  symmetry_worst  \\\n",
            "0             0.6656           0.7119                0.2654          0.4601   \n",
            "1             0.1866           0.2416                0.1860          0.2750   \n",
            "2             0.4245           0.4504                0.2430          0.3613   \n",
            "3             0.8663           0.6869                0.2575          0.6638   \n",
            "4             0.2050           0.4000                0.1625          0.2364   \n",
            "\n",
            "   fractal_dimension_worst  Unnamed: 32  \n",
            "0                  0.11890          NaN  \n",
            "1                  0.08902          NaN  \n",
            "2                  0.08758          NaN  \n",
            "3                  0.17300          NaN  \n",
            "4                  0.07678          NaN  \n",
            "\n",
            "[5 rows x 33 columns]\n"
          ]
        }
      ]
    },
    {
      "cell_type": "markdown",
      "source": [
        "🔍 2. Explore Columns"
      ],
      "metadata": {
        "id": "DaxeY8T0boMn"
      }
    },
    {
      "cell_type": "markdown",
      "source": [
        "After loading, check the column names:\n"
      ],
      "metadata": {
        "id": "UazUYMD0buUB"
      }
    },
    {
      "cell_type": "code",
      "source": [
        "print(df.columns)\n"
      ],
      "metadata": {
        "colab": {
          "base_uri": "https://localhost:8080/"
        },
        "id": "odXd9G0Mb5fI",
        "outputId": "0853a9da-2de5-4953-dba6-6c8611daa21c"
      },
      "execution_count": 4,
      "outputs": [
        {
          "output_type": "stream",
          "name": "stdout",
          "text": [
            "Index(['id', 'diagnosis', 'radius_mean', 'texture_mean', 'perimeter_mean',\n",
            "       'area_mean', 'smoothness_mean', 'compactness_mean', 'concavity_mean',\n",
            "       'concave points_mean', 'symmetry_mean', 'fractal_dimension_mean',\n",
            "       'radius_se', 'texture_se', 'perimeter_se', 'area_se', 'smoothness_se',\n",
            "       'compactness_se', 'concavity_se', 'concave points_se', 'symmetry_se',\n",
            "       'fractal_dimension_se', 'radius_worst', 'texture_worst',\n",
            "       'perimeter_worst', 'area_worst', 'smoothness_worst',\n",
            "       'compactness_worst', 'concavity_worst', 'concave points_worst',\n",
            "       'symmetry_worst', 'fractal_dimension_worst', 'Unnamed: 32'],\n",
            "      dtype='object')\n"
          ]
        }
      ]
    },
    {
      "cell_type": "markdown",
      "source": [
        "If the dataset doesn't have headers, you can add them manually:\n",
        "\n"
      ],
      "metadata": {
        "id": "mL9JBj8_b8Hn"
      }
    },
    {
      "cell_type": "code",
      "source": [
        "df = pd.read_csv(\"/content/data.csv\", header=None)\n"
      ],
      "metadata": {
        "id": "NGCnF_0pcPtx"
      },
      "execution_count": 6,
      "outputs": []
    },
    {
      "cell_type": "markdown",
      "source": [
        "✅ Ready for Logistic Regression\n",
        "🔧 Preprocessing Steps:\n",
        "Here's how you can start the classification:"
      ],
      "metadata": {
        "id": "ZwKHXUcOcoeh"
      }
    },
    {
      "cell_type": "code",
      "source": [
        "import pandas as pd\n",
        "\n",
        "# Load the uploaded dataset\n",
        "file_path = \"/content/data.csv\"\n",
        "df = pd.read_csv(file_path)\n",
        "\n",
        "# Show basic info and first few rows\n",
        "df_info = df.info()\n",
        "df_head = df.head()\n",
        "\n",
        "df_info, df_head\n"
      ],
      "metadata": {
        "colab": {
          "base_uri": "https://localhost:8080/"
        },
        "id": "Bz5mQl-Gc5tq",
        "outputId": "f5988e65-7b81-4a21-f8d2-eaec2c54de75"
      },
      "execution_count": 10,
      "outputs": [
        {
          "output_type": "stream",
          "name": "stdout",
          "text": [
            "<class 'pandas.core.frame.DataFrame'>\n",
            "RangeIndex: 569 entries, 0 to 568\n",
            "Data columns (total 33 columns):\n",
            " #   Column                   Non-Null Count  Dtype  \n",
            "---  ------                   --------------  -----  \n",
            " 0   id                       569 non-null    int64  \n",
            " 1   diagnosis                569 non-null    object \n",
            " 2   radius_mean              569 non-null    float64\n",
            " 3   texture_mean             569 non-null    float64\n",
            " 4   perimeter_mean           569 non-null    float64\n",
            " 5   area_mean                569 non-null    float64\n",
            " 6   smoothness_mean          569 non-null    float64\n",
            " 7   compactness_mean         569 non-null    float64\n",
            " 8   concavity_mean           569 non-null    float64\n",
            " 9   concave points_mean      569 non-null    float64\n",
            " 10  symmetry_mean            569 non-null    float64\n",
            " 11  fractal_dimension_mean   569 non-null    float64\n",
            " 12  radius_se                569 non-null    float64\n",
            " 13  texture_se               569 non-null    float64\n",
            " 14  perimeter_se             569 non-null    float64\n",
            " 15  area_se                  569 non-null    float64\n",
            " 16  smoothness_se            569 non-null    float64\n",
            " 17  compactness_se           569 non-null    float64\n",
            " 18  concavity_se             569 non-null    float64\n",
            " 19  concave points_se        569 non-null    float64\n",
            " 20  symmetry_se              569 non-null    float64\n",
            " 21  fractal_dimension_se     569 non-null    float64\n",
            " 22  radius_worst             569 non-null    float64\n",
            " 23  texture_worst            569 non-null    float64\n",
            " 24  perimeter_worst          569 non-null    float64\n",
            " 25  area_worst               569 non-null    float64\n",
            " 26  smoothness_worst         569 non-null    float64\n",
            " 27  compactness_worst        569 non-null    float64\n",
            " 28  concavity_worst          569 non-null    float64\n",
            " 29  concave points_worst     569 non-null    float64\n",
            " 30  symmetry_worst           569 non-null    float64\n",
            " 31  fractal_dimension_worst  569 non-null    float64\n",
            " 32  Unnamed: 32              0 non-null      float64\n",
            "dtypes: float64(31), int64(1), object(1)\n",
            "memory usage: 146.8+ KB\n"
          ]
        },
        {
          "output_type": "execute_result",
          "data": {
            "text/plain": [
              "(None,\n",
              "          id diagnosis  radius_mean  texture_mean  perimeter_mean  area_mean  \\\n",
              " 0    842302         M        17.99         10.38          122.80     1001.0   \n",
              " 1    842517         M        20.57         17.77          132.90     1326.0   \n",
              " 2  84300903         M        19.69         21.25          130.00     1203.0   \n",
              " 3  84348301         M        11.42         20.38           77.58      386.1   \n",
              " 4  84358402         M        20.29         14.34          135.10     1297.0   \n",
              " \n",
              "    smoothness_mean  compactness_mean  concavity_mean  concave points_mean  \\\n",
              " 0          0.11840           0.27760          0.3001              0.14710   \n",
              " 1          0.08474           0.07864          0.0869              0.07017   \n",
              " 2          0.10960           0.15990          0.1974              0.12790   \n",
              " 3          0.14250           0.28390          0.2414              0.10520   \n",
              " 4          0.10030           0.13280          0.1980              0.10430   \n",
              " \n",
              "    ...  texture_worst  perimeter_worst  area_worst  smoothness_worst  \\\n",
              " 0  ...          17.33           184.60      2019.0            0.1622   \n",
              " 1  ...          23.41           158.80      1956.0            0.1238   \n",
              " 2  ...          25.53           152.50      1709.0            0.1444   \n",
              " 3  ...          26.50            98.87       567.7            0.2098   \n",
              " 4  ...          16.67           152.20      1575.0            0.1374   \n",
              " \n",
              "    compactness_worst  concavity_worst  concave points_worst  symmetry_worst  \\\n",
              " 0             0.6656           0.7119                0.2654          0.4601   \n",
              " 1             0.1866           0.2416                0.1860          0.2750   \n",
              " 2             0.4245           0.4504                0.2430          0.3613   \n",
              " 3             0.8663           0.6869                0.2575          0.6638   \n",
              " 4             0.2050           0.4000                0.1625          0.2364   \n",
              " \n",
              "    fractal_dimension_worst  Unnamed: 32  \n",
              " 0                  0.11890          NaN  \n",
              " 1                  0.08902          NaN  \n",
              " 2                  0.08758          NaN  \n",
              " 3                  0.17300          NaN  \n",
              " 4                  0.07678          NaN  \n",
              " \n",
              " [5 rows x 33 columns])"
            ]
          },
          "metadata": {},
          "execution_count": 10
        }
      ]
    }
  ]
}